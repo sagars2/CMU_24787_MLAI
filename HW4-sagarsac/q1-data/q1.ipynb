{
 "cells": [
  {
   "cell_type": "markdown",
   "metadata": {},
   "source": [
    "# Principal Component Analysis\n",
    "The goal of this question is to build a conceptual understanding of dimensionality reduction using PCA and implement it on a toy dataset. You’ll only have to use numpy and matplotlib for this question."
   ]
  },
  {
   "cell_type": "code",
   "execution_count": 1,
   "metadata": {},
   "outputs": [],
   "source": [
    "import numpy as np\n",
    "import matplotlib.pyplot as plt\n",
    "import pandas as pd\n",
    "import matplotlib.pyplot as plt"
   ]
  },
  {
   "cell_type": "code",
   "execution_count": 2,
   "metadata": {},
   "outputs": [
    {
     "name": "stdout",
     "output_type": "stream",
     "text": [
      "(150, 8)\n",
      "Mean: -6.158037043254202e-16\n",
      "STD: 1.0\n"
     ]
    }
   ],
   "source": [
    "# (a) Load data (features)\n",
    "X = 0\n",
    "def load_data(X):\n",
    "    X = 'features.npy'\n",
    "    data = np.load(X)\n",
    "    \n",
    "    mu = np.mean(data,axis=0)\n",
    "    sigma = np.std(data,axis=0)\n",
    "    data-=mu\n",
    "    data/=sigma\n",
    "    return data\n",
    "\n",
    "test = load_data(X)\n",
    "print(test.shape)\n",
    "print('Mean: {}\\nSTD: {}'.format(np.mean(test), np.std(test)))"
   ]
  },
  {
   "cell_type": "code",
   "execution_count": 3,
   "metadata": {},
   "outputs": [
    {
     "data": {
      "text/plain": [
       "(array([ 4.74298961e+00,  2.29585309e+00,  7.76910512e-01,  2.04172901e-01,\n",
       "         3.37651661e-02, -7.03281987e-16,  6.34199026e-18,  8.43406727e-16]),\n",
       " array([[-0.39124937,  0.13884872, -0.46160937,  0.58034539,  0.24934936,\n",
       "          0.20978664, -0.42116938,  0.09320476],\n",
       "        [ 0.11687696, -0.4391715 , -0.78711289, -0.2905579 , -0.12725786,\n",
       "          0.07280114,  0.20605814,  0.14672413],\n",
       "        [-0.40655289,  0.29080021, -0.13961871, -0.12636707, -0.54994554,\n",
       "         -0.59631459, -0.06875535,  0.21509872],\n",
       "        [-0.39944906,  0.26454833, -0.16206048, -0.54404218,  0.49904279,\n",
       "         -0.06355642,  0.05521708, -0.43718158],\n",
       "        [-0.3778555 , -0.35426671,  0.07790627,  0.42060984,  0.12822569,\n",
       "         -0.32964346,  0.66179491, -0.14645517],\n",
       "        [-0.09816172, -0.64299795,  0.11941452, -0.04972667, -0.0795516 ,\n",
       "         -0.20011335, -0.56640575, -0.40331041],\n",
       "        [-0.45509399, -0.03231459,  0.12200908, -0.08034689, -0.51935676,\n",
       "          0.65722825,  0.07577872, -0.23707109],\n",
       "        [-0.38587285, -0.30545597,  0.29393481, -0.28457653,  0.27864817,\n",
       "          0.10197996, -0.08859901,  0.70148315]]))"
      ]
     },
     "execution_count": 3,
     "metadata": {},
     "output_type": "execute_result"
    }
   ],
   "source": [
    "# (b) Perform eigen decomposition and return eigen pairs in desecending order of eigen values\n",
    "def eigendecomp(X):\n",
    "    covariance = np.cov(X.T)\n",
    "#     print(covariance)\n",
    "#     print(covariance.shape)\n",
    "    sorted_eig_vals,sorted_eig_vecs = np.linalg.eig(covariance)\n",
    "#     print(w,v)\n",
    "    return (sorted_eig_vals, sorted_eig_vecs)\n",
    "eigendecomp(test)"
   ]
  },
  {
   "cell_type": "code",
   "execution_count": 4,
   "metadata": {},
   "outputs": [
    {
     "name": "stdout",
     "output_type": "stream",
     "text": [
      "Ratio: 0.5889212098295772\n",
      "Ratio: 0.8739896347022311\n",
      "Ratio: 0.9704560233211404\n",
      "Ratio: 0.9958074918820439\n",
      "Ratio: 1.0\n",
      "Ratio: 1.0\n",
      "Ratio: 1.0\n",
      "Ratio: 1.0\n",
      "Eigenvalue [ 4.74298961e+00  2.29585309e+00  7.76910512e-01  2.04172901e-01\n",
      "  3.37651661e-02 -7.03281987e-16  6.34199026e-18  8.43406727e-16]\n"
     ]
    }
   ],
   "source": [
    "# (c) Evaluate using variance_explained as the metric\n",
    "#ratio between sum of k eigenvalues and sum of all eigenvalues\n",
    "def eval(X):\n",
    "    eigenval,eigenvec = eigendecomp(X)\n",
    "    \n",
    "    for k in range(1,9):\n",
    "        var_expl = np.sum(eigenval[0:k])\n",
    "        var_tot = np.sum(eigenval)\n",
    "        ratio = var_expl/var_tot\n",
    "        print('Ratio:',ratio)\n",
    "    print('Eigenvalue',eigenval)\n",
    "eval(test)"
   ]
  },
  {
   "cell_type": "code",
   "execution_count": 5,
   "metadata": {},
   "outputs": [
    {
     "name": "stdout",
     "output_type": "stream",
     "text": [
      "eigenvector [[-0.39124937  0.13884872]\n",
      " [ 0.11687696 -0.4391715 ]\n",
      " [-0.40655289  0.29080021]\n",
      " [-0.39944906  0.26454833]\n",
      " [-0.3778555  -0.35426671]\n",
      " [-0.09816172 -0.64299795]\n",
      " [-0.45509399 -0.03231459]\n",
      " [-0.38587285 -0.30545597]]\n",
      "reduced_data [[ 1.14283537 -2.75916236]\n",
      " [ 4.47917874  1.87206668]\n",
      " [ 2.36294554 -1.18487643]\n",
      " [ 2.11785321 -1.23400373]\n",
      " [ 2.35720963 -1.59610139]\n",
      " [ 2.11794046 -1.66871235]\n",
      " [ 2.59256157 -1.1733813 ]\n",
      " [ 1.69738736 -1.94274515]\n",
      " [ 3.84415322  0.91236648]\n",
      " [ 2.54114976 -0.61023934]\n",
      " [ 0.53307793 -3.52114295]\n",
      " [ 2.1342099  -1.52068107]\n",
      " [ 2.20338749 -0.9757627 ]\n",
      " [ 3.35078423 -0.23733063]\n",
      " [ 2.15681408 -2.04798058]\n",
      " [ 2.26610464 -2.28577345]\n",
      " [ 1.14461493 -3.08406768]\n",
      " [ 2.49984619 -1.06451121]\n",
      " [ 2.18818227 -1.28000327]\n",
      " [ 2.83611365 -1.13516124]\n",
      " [ 2.7612342  -0.24427366]\n",
      " [ 3.15987429 -0.47080825]\n",
      " [ 1.58717236 -3.08977007]\n",
      " [ 0.66469116 -2.43034637]\n",
      " [ 2.7406176  -0.60365427]\n",
      " [ 3.18585395  0.57768826]\n",
      " [ 0.81361677 -2.69041059]\n",
      " [ 2.8319995  -0.635948  ]\n",
      " [ 1.5236855  -2.05718464]\n",
      " [ 2.49499246 -0.82244322]\n",
      " [ 3.791253    0.94977631]\n",
      " [ 1.6103999  -1.51222567]\n",
      " [ 3.54346342 -0.9785532 ]\n",
      " [ 2.93280851 -1.59445256]\n",
      " [ 4.23927503  1.37510478]\n",
      " [ 3.43117407  0.23166945]\n",
      " [ 2.58921603 -0.82150777]\n",
      " [ 2.76985217 -0.34285448]\n",
      " [ 1.6173334  -1.9381603 ]\n",
      " [ 2.23395945 -1.23642152]\n",
      " [ 1.75067988 -2.08873766]\n",
      " [ 2.79267307  0.86709121]\n",
      " [ 1.74023069 -2.14990566]\n",
      " [ 3.17847114  0.11295206]\n",
      " [ 4.12713083  0.75973692]\n",
      " [ 1.88802255 -1.12823371]\n",
      " [ 0.623944   -3.76026107]\n",
      " [ 2.85033664 -0.62469429]\n",
      " [ 1.57186285 -2.38565561]\n",
      " [ 1.79454623 -1.72078895]\n",
      " [-1.81141033 -0.59303167]\n",
      " [-0.19671106  0.79021338]\n",
      " [-0.89276166  0.82653295]\n",
      " [ 1.42975232  3.01725168]\n",
      " [-0.76704061  0.98262477]\n",
      " [ 0.53563806  1.5880808 ]\n",
      " [ 0.11689792  1.14697328]\n",
      " [ 0.86288386  0.89300451]\n",
      " [-0.64077874  0.81528976]\n",
      " [ 0.92841179  1.52203367]\n",
      " [ 1.05511764  2.04630892]\n",
      " [-0.45219697  0.24391029]\n",
      " [ 0.46395778  2.13644889]\n",
      " [-2.40742934 -1.46768404]\n",
      " [ 0.33058612  0.46747946]\n",
      " [-1.86848459 -0.92708591]\n",
      " [ 0.26256682  1.05063124]\n",
      " [-0.94171816 -0.48419685]\n",
      " [-1.47260851  0.9176662 ]\n",
      " [ 0.57256585  1.45306373]\n",
      " [-1.57699445 -0.6861078 ]\n",
      " [-2.24604408 -1.69485953]\n",
      " [-1.52264838  0.68241772]\n",
      " [-1.97882408 -1.00510469]\n",
      " [-2.22760787 -1.40597853]\n",
      " [ 0.97456275  2.49554929]\n",
      " [-0.9760806   1.00580133]\n",
      " [-1.39963675  0.53923257]\n",
      " [-1.35747427 -0.3497214 ]\n",
      " [ 0.18060287  0.51056642]\n",
      " [ 0.34461951  1.21593044]\n",
      " [ 1.77058821  2.70561789]\n",
      " [-0.28925582  0.35615519]\n",
      " [-2.08138365 -0.31642132]\n",
      " [-0.39294209  0.12625758]\n",
      " [-1.20532415 -0.95229301]\n",
      " [-0.38477179  1.12374948]\n",
      " [-1.51957044  0.47845785]\n",
      " [-0.95558824 -0.86719815]\n",
      " [-0.39527753  0.52810915]\n",
      " [ 0.14437388  1.15060741]\n",
      " [-1.64648773 -0.82510304]\n",
      " [ 1.29930976  2.46047417]\n",
      " [ 2.24785603  2.76894025]\n",
      " [ 0.13605657  1.01158084]\n",
      " [ 0.03469556  0.33081092]\n",
      " [ 0.68078327  1.37200898]\n",
      " [ 0.38178132  1.48676681]\n",
      " [ 0.78699576  0.68462402]\n",
      " [-0.24537126  0.39756981]\n",
      " [-1.75175341  0.836874  ]\n",
      " [-0.93719603  1.18765157]\n",
      " [-3.8935865  -1.00393043]\n",
      " [-2.95450856 -0.89267797]\n",
      " [-1.5298337   1.32441284]\n",
      " [-2.90357248  1.03397004]\n",
      " [ 1.81110092  3.41291557]\n",
      " [-1.64096172  1.91845919]\n",
      " [-1.57399002  1.88688541]\n",
      " [-4.51177198 -2.14279665]\n",
      " [-2.72993696 -1.13579289]\n",
      " [-1.26492019  1.41717621]\n",
      " [-0.76465418  2.13983383]\n",
      " [-0.15090453  2.42213493]\n",
      " [-0.58474807  1.96258338]\n",
      " [-3.16607528 -1.26164261]\n",
      " [-1.65646998  0.53583669]\n",
      " [-3.95218976 -1.35726227]\n",
      " [-3.60131966  1.43234824]\n",
      " [-1.64027473  0.91040176]\n",
      " [-4.18658328 -1.78237345]\n",
      " [-0.01335868  1.90145402]\n",
      " [-3.11272766  1.18509785]\n",
      " [-2.78310603 -0.82231002]\n",
      " [-3.44714984 -1.46981494]\n",
      " [-0.91088588  1.95182671]\n",
      " [-1.86220954 -0.07171595]\n",
      " [-0.95493     0.62394468]\n",
      " [-3.25328195 -0.66092292]\n",
      " [-2.90881505 -0.38353612]\n",
      " [-3.80045695 -0.38016355]\n",
      " [-4.47063545 -2.22969086]\n",
      " [-2.65589151  0.14562659]\n",
      " [ 0.87444483  3.09050969]\n",
      " [-0.28584465  2.17004306]\n",
      " [-3.69602821  0.05595666]\n",
      " [-2.10297758 -0.13699038]\n",
      " [-2.3929747  -0.5819506 ]\n",
      " [-0.93224893  0.50211494]\n",
      " [-0.38310161  2.41785277]\n",
      " [-0.71429891  2.33569728]\n",
      " [-1.22125173  1.44612127]\n",
      " [-2.60478212 -0.761988  ]\n",
      " [-3.21436214 -0.58600703]\n",
      " [-2.56922658 -0.01093208]\n",
      " [-2.5142908   0.02345174]\n",
      " [-1.81080307  0.8473443 ]\n",
      " [-2.36399184 -0.28317222]\n",
      " [-2.44436643 -0.86193624]\n",
      " [ 1.03880181  2.93560245]]\n"
     ]
    }
   ],
   "source": [
    "def project(X):\n",
    "    eigenval,eigenvec = eigendecomp(X)\n",
    "#     print(eigenvec)\n",
    "    eigenvector = np.column_stack((eigenvec[:,0],eigenvec[:,1]))\n",
    "    print('eigenvector',eigenvector)\n",
    "#     print(arr.shape)\n",
    "#     print(X.shape)\n",
    "    reduced_data = (np.matmul(X,eigenvector))\n",
    "    return reduced_data\n",
    "print('reduced_data',project(test))"
   ]
  },
  {
   "cell_type": "code",
   "execution_count": 6,
   "metadata": {},
   "outputs": [
    {
     "name": "stdout",
     "output_type": "stream",
     "text": [
      "eigenvector [[-0.39124937  0.13884872]\n",
      " [ 0.11687696 -0.4391715 ]\n",
      " [-0.40655289  0.29080021]\n",
      " [-0.39944906  0.26454833]\n",
      " [-0.3778555  -0.35426671]\n",
      " [-0.09816172 -0.64299795]\n",
      " [-0.45509399 -0.03231459]\n",
      " [-0.38587285 -0.30545597]]\n"
     ]
    },
    {
     "data": {
      "image/png": "[encoded data removed]",
      "text/plain": [
       "<Figure size 432x288 with 1 Axes>"
      ]
     },
     "metadata": {
      "needs_background": "light"
     },
     "output_type": "display_data"
    }
   ],
   "source": [
    "Y = 'labels.npy'\n",
    "labels = np.load(Y,allow_pickle=True)\n",
    "# (d) Visualize after projecting to 2-D space\n",
    "def viz(X):\n",
    "    plt.ylim(-4,3)\n",
    "    plt.xlim(-4,4)\n",
    "    data_reduced = project(X)\n",
    "    plt.scatter(data_reduced[:,0],data_reduced[:,1],c=labels)\n",
    "viz(test)"
   ]
  },
  {
   "cell_type": "code",
   "execution_count": 7,
   "metadata": {},
   "outputs": [],
   "source": [
    "# def main():\n",
    "#     eval()\n",
    "#     viz()\n",
    "\n",
    "# if __name__ == \"__main__\":\n",
    "#     main()"
   ]
  },
  {
   "cell_type": "raw",
   "metadata": {},
   "source": [
    "(e1): If the number of features is 1000 and the number of data points is 10, what will be the dimension of your covariance matrix? Can you suggest what can be changed to improve the performance?"
   ]
  },
  {
   "cell_type": "raw",
   "metadata": {},
   "source": [
    "1000 by 1000. Number of features is greater than the number of samples and to improve the performance the number of samples must be greater than 1000."
   ]
  },
  {
   "cell_type": "raw",
   "metadata": {},
   "source": [
    "(e2): Assume you have a dataset with the original dimensionality as 2 and you have to reduce it to 1. Provide a sample scatter plot of the original data (less than 10 datapoints) where PCA might produce misleading results. You can plot it by hand and then take a picture. In the next cell, switch to Markdown mode and use the command: ![title](<your_plot_file_path>)"
   ]
  },
  {
   "cell_type": "code",
   "execution_count": 8,
   "metadata": {},
   "outputs": [
    {
     "data": {
      "text/plain": [
       "<matplotlib.collections.PathCollection at 0x7fb8902d4940>"
      ]
     },
     "execution_count": 8,
     "metadata": {},
     "output_type": "execute_result"
    },
    {
     "data": {
      "image/png": "[encoded data removed]",
      "text/plain": [
       "<Figure size 432x288 with 1 Axes>"
      ]
     },
     "metadata": {
      "needs_background": "light"
     },
     "output_type": "display_data"
    }
   ],
   "source": [
    "x_dat = np.array([-1,1,0,0,0.75,-0.75, 0.75,-0.75])\n",
    "y_dat = np.array([0,0,1,-1,0.5,0.5,-0.5,-0.5])\n",
    "\n",
    "plt.scatter(x_dat,y_dat)"
   ]
  },
  {
   "cell_type": "markdown",
   "metadata": {},
   "source": [
    "PCA does not work well for non-linear data"
   ]
  }
 ],
 "metadata": {
  "kernelspec": {
   "display_name": "Python 3",
   "language": "python",
   "name": "python3"
  },
  "language_info": {
   "codemirror_mode": {
    "name": "ipython",
    "version": 3
   },
   "file_extension": ".py",
   "mimetype": "text/x-python",
   "name": "python",
   "nbconvert_exporter": "python",
   "pygments_lexer": "ipython3",
   "version": "3.8.8"
  }
 },
 "nbformat": 4,
 "nbformat_minor": 2
}
