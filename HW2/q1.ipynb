{
 "cells": [
  {
   "cell_type": "markdown",
   "id": "7be1b31f",
   "metadata": {},
   "source": [
    "__1(a)__"
   ]
  },
  {
   "cell_type": "code",
   "execution_count": 1,
   "id": "eb22cde3",
   "metadata": {},
   "outputs": [
    {
     "name": "stdout",
     "output_type": "stream",
     "text": [
      "[[[2 6 4 1]\n",
      "  [0 4 4 3]\n",
      "  [6 6 1 2]\n",
      "  [7 0 6 5]]\n",
      "\n",
      " [[1 3 3 7]\n",
      "  [4 7 2 5]\n",
      "  [0 4 6 7]\n",
      "  [5 5 7 1]]\n",
      "\n",
      " [[7 2 4 5]\n",
      "  [6 7 7 0]\n",
      "  [6 2 0 4]\n",
      "  [2 0 7 6]]]\n",
      "Row: [0, 1, 1, 1, 2, 0, 2]\n",
      "Column: [2, 1, 2, 0, 1, 2, 3]\n"
     ]
    }
   ],
   "source": [
    "import numpy as np\n",
    "import matplotlib.pyplot as plt\n",
    "np.random.seed(24787)\n",
    "a = []\n",
    "a = np.random.randint(0,8,(3,4,4))\n",
    "print(a)\n",
    "row = []\n",
    "column = []\n",
    "locations = []\n",
    "locations = np.argwhere(a == 4)\n",
    "l0 = locations[0, 1:]\n",
    "l1 = locations[1,1:]\n",
    "l2 = locations[2,1:]\n",
    "l3 = locations[3,1:]\n",
    "l4 = locations[4,1:]\n",
    "l5 = locations[5,1:]\n",
    "l6 = locations[6,1:]\n",
    "\n",
    "row.append(l0[0])\n",
    "row.append(l1[0])\n",
    "row.append(l2[0])\n",
    "row.append(l3[0])\n",
    "row.append(l4[0])\n",
    "row.append(l5[0])\n",
    "row.append(l6[0])\n",
    "print(\"Row:\",row)\n",
    "\n",
    "column.append(l0[1])\n",
    "column.append(l1[1])\n",
    "column.append(l2[1])\n",
    "column.append(l3[1])\n",
    "column.append(l4[1])\n",
    "column.append(l5[1])\n",
    "column.append(l6[1])\n",
    "print(\"Column:\",column)"
   ]
  },
  {
   "cell_type": "markdown",
   "id": "ae10e5ca",
   "metadata": {},
   "source": [
    "__1(b)__"
   ]
  },
  {
   "cell_type": "code",
   "execution_count": 2,
   "id": "547c9639",
   "metadata": {},
   "outputs": [
    {
     "name": "stdout",
     "output_type": "stream",
     "text": [
      "[[[2 6 4 1 2 6 4 1]\n",
      "  [0 4 4 3 0 4 4 3]\n",
      "  [6 6 1 2 6 6 1 2]\n",
      "  [7 0 6 5 7 0 6 5]\n",
      "  [2 6 4 1 2 6 4 1]\n",
      "  [0 4 4 3 0 4 4 3]\n",
      "  [6 6 1 2 6 6 1 2]\n",
      "  [7 0 6 5 7 0 6 5]]\n",
      "\n",
      " [[1 3 3 7 1 3 3 7]\n",
      "  [4 7 2 5 4 7 2 5]\n",
      "  [0 4 6 7 0 4 6 7]\n",
      "  [5 5 7 1 5 5 7 1]\n",
      "  [1 3 3 7 1 3 3 7]\n",
      "  [4 7 2 5 4 7 2 5]\n",
      "  [0 4 6 7 0 4 6 7]\n",
      "  [5 5 7 1 5 5 7 1]]\n",
      "\n",
      " [[7 2 4 5 7 2 4 5]\n",
      "  [6 7 7 0 6 7 7 0]\n",
      "  [6 2 0 4 6 2 0 4]\n",
      "  [2 0 7 6 2 0 7 6]\n",
      "  [7 2 4 5 7 2 4 5]\n",
      "  [6 7 7 0 6 7 7 0]\n",
      "  [6 2 0 4 6 2 0 4]\n",
      "  [2 0 7 6 2 0 7 6]]]\n"
     ]
    }
   ],
   "source": [
    "b =  np.tile(a,(2,2))\n",
    "print(b)"
   ]
  },
  {
   "cell_type": "markdown",
   "id": "77876a6d",
   "metadata": {},
   "source": [
    "__1(c)__"
   ]
  },
  {
   "cell_type": "code",
   "execution_count": 3,
   "id": "d9bc8c3b",
   "metadata": {},
   "outputs": [
    {
     "name": "stdout",
     "output_type": "stream",
     "text": [
      "[[10 11 11 13 10 11 11 13]\n",
      " [10 18 13  8 10 18 13  8]\n",
      " [12 12  7 13 12 12  7 13]\n",
      " [14  5 20 12 14  5 20 12]\n",
      " [10 11 11 13 10 11 11 13]\n",
      " [10 18 13  8 10 18 13  8]\n",
      " [12 12  7 13 12 12  7 13]\n",
      " [14  5 20 12 14  5 20 12]]\n",
      "(8, 8)\n"
     ]
    }
   ],
   "source": [
    "c = np.sum(b,0)\n",
    "print(c)\n",
    "print(c.shape)"
   ]
  },
  {
   "cell_type": "markdown",
   "id": "c4f7e666",
   "metadata": {},
   "source": [
    "__1(d)__"
   ]
  },
  {
   "cell_type": "code",
   "execution_count": 4,
   "id": "bb0d39aa",
   "metadata": {},
   "outputs": [],
   "source": [
    "np.random.seed(24787)\n",
    "A = np.random.random((1000,1000))\n",
    "B = np.random.random((1000,1000))\n",
    "\n",
    "i = 0\n",
    "j = 0\n",
    "l1 = np.zeros((1000,1000))\n",
    "l2 = np.zeros((1000,1000))\n",
    "l_ans = np.zeros((1000,1000))\n",
    "def matmul(l1,l2):\n",
    "    for i in range(0,len(l1)):\n",
    "        for j in range(0,len(l2)):\n",
    "            l_ans[i,j] = np.dot(l1[i,:],l2[:,j])\n",
    "    return l_ans\n"
   ]
  },
  {
   "cell_type": "code",
   "execution_count": 5,
   "id": "972658d6",
   "metadata": {},
   "outputs": [
    {
     "name": "stdout",
     "output_type": "stream",
     "text": [
      "[[262.02681889 250.35010895 255.20209698 ... 255.11959541 248.13659427\n",
      "  246.60845719]\n",
      " [267.28382531 248.10413271 253.0417709  ... 255.93196541 253.71831423\n",
      "  246.48668303]\n",
      " [268.78477885 252.60592752 268.07751687 ... 262.21855106 259.70257958\n",
      "  254.42145539]\n",
      " ...\n",
      " [256.28928623 241.29542559 253.63761207 ... 255.58972957 248.44848129\n",
      "  245.45765948]\n",
      " [261.245718   248.87670911 259.54001149 ... 257.58727381 252.51065398\n",
      "  250.76435101]\n",
      " [256.55021563 242.88337935 249.70633094 ... 251.16608605 245.52951864\n",
      "  237.41175273]]\n",
      "CPU times: user 3.37 s, sys: 5.91 ms, total: 3.38 s\n",
      "Wall time: 3.38 s\n"
     ]
    }
   ],
   "source": [
    "%%time\n",
    "ans = matmul(A,B)\n",
    "print(ans)"
   ]
  },
  {
   "cell_type": "code",
   "execution_count": 6,
   "id": "cbd617d1",
   "metadata": {},
   "outputs": [
    {
     "name": "stdout",
     "output_type": "stream",
     "text": [
      "[[ 5.68434189e-14  5.68434189e-14  5.68434189e-14 ... -5.68434189e-14\n",
      "  -2.84217094e-14  5.68434189e-14]\n",
      " [ 5.68434189e-14  5.68434189e-14  5.68434189e-14 ...  2.84217094e-14\n",
      "  -1.13686838e-13  0.00000000e+00]\n",
      " [ 5.68434189e-14  5.68434189e-14 -1.13686838e-13 ...  0.00000000e+00\n",
      "   5.68434189e-14  0.00000000e+00]\n",
      " ...\n",
      " [-5.68434189e-14  0.00000000e+00 -2.84217094e-14 ... -5.68434189e-14\n",
      "   2.84217094e-14  8.52651283e-14]\n",
      " [-5.68434189e-14 -2.84217094e-14  5.68434189e-14 ... -1.13686838e-13\n",
      "   2.84217094e-14  0.00000000e+00]\n",
      " [ 1.70530257e-13  0.00000000e+00 -8.52651283e-14 ...  0.00000000e+00\n",
      "   2.84217094e-14 -2.84217094e-14]]\n"
     ]
    }
   ],
   "source": [
    "ans1 = A@B\n",
    "print(ans-ans1)"
   ]
  },
  {
   "cell_type": "markdown",
   "id": "967d6b56",
   "metadata": {},
   "source": [
    "Since the difference between ans and ans1 is essentially a 1000 by 1000 zero matrix, the implementation is correct."
   ]
  },
  {
   "cell_type": "markdown",
   "id": "5aa54330",
   "metadata": {},
   "source": [
    "The @ operator is faster than the function I wrote because it does not have loops. Loops makes code implementation slower"
   ]
  },
  {
   "cell_type": "code",
   "execution_count": null,
   "id": "0a1260ee",
   "metadata": {},
   "outputs": [],
   "source": []
  }
 ],
 "metadata": {
  "kernelspec": {
   "display_name": "Python 3",
   "language": "python",
   "name": "python3"
  },
  "language_info": {
   "codemirror_mode": {
    "name": "ipython",
    "version": 3
   },
   "file_extension": ".py",
   "mimetype": "text/x-python",
   "name": "python",
   "nbconvert_exporter": "python",
   "pygments_lexer": "ipython3",
   "version": "3.8.8"
  }
 },
 "nbformat": 4,
 "nbformat_minor": 5
}
